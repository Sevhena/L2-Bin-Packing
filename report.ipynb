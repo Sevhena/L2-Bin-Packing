{
 "cells": [
  {
   "cell_type": "markdown",
   "id": "d0f21658-40c8-40c9-99d2-ec8c0b42e84f",
   "metadata": {},
   "source": [
    "# Bin Packing Lab"
   ]
  },
  {
   "cell_type": "markdown",
   "id": "f9ffdec9-9fcb-4a7b-910e-abecc6352210",
   "metadata": {},
   "source": [
    "- Authors:\n",
    "  - Sevhena Walker, walkes31@mcmaster.ca\n",
    "  - , email\n",
    "- Group ID on Avenue: group 52\n",
    "- Gitlab URL:"
   ]
  },
  {
   "cell_type": "markdown",
   "id": "5bd17b88",
   "metadata": {},
   "source": [
    "## T1: Understand The Code Base"
   ]
  },
  {
   "cell_type": "markdown",
   "id": "f5437535",
   "metadata": {},
   "source": [
    "#### Solid Principles\n",
    "S - In terms of how the code follows the single-responsability principle, each class and function serves one purpose.\n",
    "\n",
    "O - The design follows the open/closed principle as more components can be added to the code without modifying existing components. This is easily seen in the bin packer design where you have different types of bin packers (offline, online) and there could possibly be more in the future if such a thing was wanted.\n",
    "\n",
    "L - The design follows the Liskov Substituion principle since all dependent classes can be used in place of their superclasses without any erors occuring. Any overrides seen in the algorithms for the offline and online binpackers do not make any significant changes.\n",
    "\n",
    "I - This design clearly follows interface segragation by the use of the BinPacker interface. This allows for the initalizing of different types of bin packers (offline, online) that still follow the same baseline.\n",
    "\n",
    "D - In the code design there are multiple classes that depend on abstract classes (BinppReader depends on DatasetReader, NextFit has two versions that each depend on an online and offline version of the Binpacker interface) Any changes made to these subclasses won't affect the superclass. If any changes need to be made to any of the methods of the superclasse, then there only need to be an override method initialized in the subclass."
   ]
  },
  {
   "cell_type": "markdown",
   "id": "a7876bc2",
   "metadata": {},
   "source": [
    "#### Dataset Comprehension\n",
    "\n",
    "The files found in the prefixed *binpp* folders follow the same format. The first line in each file gives the number *n* of weighted items in the file. The second line gives the max capacity *c* of the bins and the rest of the file is simply the n individual items listed by their respective weights.\n",
    "\n",
    "The files in the *jburkardt* come in triples with a file ending in *_c*, *_s* and *_w*. The *_c* file gives the capacity of the bins, the *_s* file matches up with the *_w* file as they have the same number of data values. Each line of the *_s* file says how many items of the weight in the *_w* are to be packed. "
   ]
  },
  {
   "cell_type": "markdown",
   "id": "3a1a5be9-b7c4-40a6-b9af-ce358b736749",
   "metadata": {},
   "source": [
    "#### Reading jburkardt Files"
   ]
  },
  {
   "cell_type": "code",
   "execution_count": null,
   "id": "14552ade-5777-469f-abca-88f809f580b5",
   "metadata": {},
   "outputs": [],
   "source": [
    "from macpacking.reader import JburkardtReader"
   ]
  },
  {
   "cell_type": "code",
   "execution_count": null,
   "id": "cc614c23",
   "metadata": {},
   "outputs": [],
   "source": [
    "dataset_c = '_datasets/jburkardt/p04_c.txt'\n",
    "dataset_s = '_datasets/jburkardt/p04_s.txt'\n",
    "dataset_w = '_datasets/jburkardt/p04_w.txt'\n",
    "reader: DatasetReader = JburkardtReader(dataset_c, dataset_s, dataset_w)\n",
    "print(f'Dataset: {dataset_c}')\n",
    "print(f'Dataset: {dataset_s}')\n",
    "print(f'Dataset: {dataset_w}')\n",
    "print(f'  - Bin Capacity: {reader.offline()[0]}')\n",
    "print(f'  - Objects to pack: {sorted(reader.offline()[1])}')"
   ]
  },
  {
   "cell_type": "markdown",
   "id": "5a8ecbb3-051d-4635-a77a-a0e8cd4a602f",
   "metadata": {},
   "source": [
    "#### The Worst Bin Packing Algorithm To Ever Exist"
   ]
  },
  {
   "cell_type": "code",
   "execution_count": null,
   "id": "7a76ed64-1a9e-4680-8d8e-fb1ce5f14eff",
   "metadata": {},
   "outputs": [],
   "source": [
    "from macpacking.algorithms.online import BadNextFit"
   ]
  },
  {
   "cell_type": "code",
   "execution_count": null,
   "id": "a518b33d-6d12-44d6-b2e0-8aaf356b956e",
   "metadata": {},
   "outputs": [],
   "source": [
    "strategy: Online = BadNextFit()\n",
    "result = strategy(reader.online())\n",
    "print(f'nb_bins = {len(result)}')\n",
    "print(f'{sorted(result)}')"
   ]
  },
  {
   "cell_type": "markdown",
   "id": "139490ac",
   "metadata": {},
   "source": [
    "## T2: Implement And Benchmark Algorithms"
   ]
  },
  {
   "cell_type": "markdown",
   "id": "466a3296-346e-4911-aa80-7ba338b08303",
   "metadata": {},
   "source": [
    "#### More Data"
   ]
  },
  {
   "cell_type": "code",
   "execution_count": null,
   "id": "2166b346-058f-4619-9072-e6fbe608fa0e",
   "metadata": {},
   "outputs": [],
   "source": [
    "from macpacking.reader import DatasetReader, BinppReader"
   ]
  },
  {
   "cell_type": "code",
   "execution_count": null,
   "id": "21df8c2c-a6fa-434b-88c3-361404872819",
   "metadata": {},
   "outputs": [],
   "source": [
    "# dataset = '_datasets/binpp/N1C1W1/N1C1W1_B.BPP.txt'\n",
    "# reader: DatasetReader = BinppReader(dataset)\n",
    "# print(f'Dataset: {dataset}')\n",
    "# print(f'  - Bin Capacity: {reader.offline()[0]}')\n",
    "# print(f'  - Objects to pack: {sorted(reader.offline()[1])}')"
   ]
  },
  {
   "cell_type": "code",
   "execution_count": null,
   "id": "39da35a3",
   "metadata": {},
   "outputs": [],
   "source": [
    "# dataset = '_datasets/binpp-hard/HARD0.BPP.txt'\n",
    "# reader: DatasetReader = BinppReader(dataset)\n",
    "# print(f'Dataset: {dataset}')\n",
    "# print(f'  - Bin Capacity: {reader.offline()[0]}')\n",
    "# print(f'  - Objects to pack: {sorted(reader.offline()[1])}')"
   ]
  },
  {
   "cell_type": "markdown",
   "id": "ff811f0f-943d-4639-8f31-cecdf0d6eed0",
   "metadata": {},
   "source": [
    "#### Online Algorithms"
   ]
  },
  {
   "cell_type": "code",
   "execution_count": null,
   "id": "f23534df-061a-4894-82a0-0018cc4e205f",
   "metadata": {},
   "outputs": [],
   "source": [
    "from macpacking.model  import Online, Offline, Multiway\n",
    "import macpacking.algorithms.online as online\n",
    "import macpacking.algorithms.offline as offline"
   ]
  },
  {
   "cell_type": "markdown",
   "id": "87377322-f534-43d4-9e27-b8409ce694dc",
   "metadata": {},
   "source": [
    "**Next Fit**"
   ]
  },
  {
   "cell_type": "code",
   "execution_count": null,
   "id": "50de8648-a261-4e84-bc56-14beefccde46",
   "metadata": {},
   "outputs": [],
   "source": [
    "strategy: Online = online.NextFit()\n",
    "result = strategy(reader.online())\n",
    "count: int = strategy.counting_compares()\n",
    "print(f'nb_bins = {len(result)}')\n",
    "print(f'{sorted(result)}')\n",
    "print(count)"
   ]
  },
  {
   "cell_type": "markdown",
   "id": "0d3a136f-16df-43ca-a1a4-4aa29a506392",
   "metadata": {},
   "source": [
    "**First Fit**"
   ]
  },
  {
   "cell_type": "code",
   "execution_count": null,
   "id": "8f52aa70-d493-47f1-8d5b-5a92f6f413ef",
   "metadata": {},
   "outputs": [],
   "source": [
    "strategy: Online = online.FirstFit()\n",
    "result = strategy(reader.online())\n",
    "print(f'nb_bins = {len(result)}')\n",
    "print(f'{sorted(result)}')"
   ]
  },
  {
   "cell_type": "markdown",
   "id": "225ac0ac-714e-41ab-aade-ab25a149b9e6",
   "metadata": {},
   "source": [
    "**Best Fit**"
   ]
  },
  {
   "cell_type": "code",
   "execution_count": null,
   "id": "11a867b6-c35a-493e-b1a0-8f939c0458bb",
   "metadata": {},
   "outputs": [],
   "source": [
    "strategy: Online = online.BestFit()\n",
    "result = strategy(reader.online())\n",
    "print(f'nb_bins = {len(result)}')\n",
    "print(f'{sorted(result)}')"
   ]
  },
  {
   "cell_type": "markdown",
   "id": "f5d33732-1111-4003-a960-27e380833826",
   "metadata": {},
   "source": [
    "**Worst Fit**"
   ]
  },
  {
   "cell_type": "code",
   "execution_count": null,
   "id": "a2071792-5678-4f5a-bd08-0306b1acee20",
   "metadata": {},
   "outputs": [],
   "source": [
    "strategy: Online = online.WorstFit()\n",
    "result = strategy(reader.online())\n",
    "print(f'nb_bins = {len(result)}')\n",
    "print(f'{sorted(result)}')"
   ]
  },
  {
   "cell_type": "markdown",
   "id": "ba77e8fc-7c67-4ab0-9000-a3bfa574c7e6",
   "metadata": {},
   "source": [
    "#### Offline Algorithms"
   ]
  },
  {
   "cell_type": "markdown",
   "id": "09558a48-da9c-402b-a2f1-5dd81f435399",
   "metadata": {},
   "source": [
    "**Next Fit Decreasing**"
   ]
  },
  {
   "cell_type": "code",
   "execution_count": null,
   "id": "300c2945-fb05-4ab7-9f63-78568bb2f666",
   "metadata": {},
   "outputs": [],
   "source": [
    "strategy: Offline = offline.NextFit()\n",
    "result = strategy(reader.offline())\n",
    "print(f'nb_bins = {len(result)}')\n",
    "print(f'{sorted(result)}')"
   ]
  },
  {
   "cell_type": "markdown",
   "id": "e97ac434-90db-4225-b622-2f678dde4632",
   "metadata": {},
   "source": [
    "**First Fit Decreasing**"
   ]
  },
  {
   "cell_type": "code",
   "execution_count": null,
   "id": "587125c7-ec44-4865-befe-6d94baae09e4",
   "metadata": {},
   "outputs": [],
   "source": [
    "strategy: Offline = offline.FirstFitDecreasing()\n",
    "result = strategy(reader.offline())\n",
    "print(f'nb_bins = {len(result)}')\n",
    "print(f'{sorted(result)}')"
   ]
  },
  {
   "cell_type": "markdown",
   "id": "5cc1e395-6b8f-4523-ad8b-a4056340192e",
   "metadata": {},
   "source": [
    "**Best Fit Decreasing**"
   ]
  },
  {
   "cell_type": "code",
   "execution_count": null,
   "id": "5ca3b0d8-e86a-4ec8-9252-876a41304ca9",
   "metadata": {},
   "outputs": [],
   "source": [
    "strategy: Offline = offline.BestFitDecreasing()\n",
    "result = strategy(reader.offline())\n",
    "print(f'nb_bins = {len(result)}')\n",
    "print(f'{sorted(result)}')"
   ]
  },
  {
   "cell_type": "markdown",
   "id": "5bc408a2-98f2-4a69-bba9-265bbeddeb09",
   "metadata": {},
   "source": [
    "**Worst Fit Decreasing**"
   ]
  },
  {
   "cell_type": "code",
   "execution_count": null,
   "id": "5ffb6574-4a50-4541-8126-52cac8d05241",
   "metadata": {},
   "outputs": [],
   "source": [
    "strategy: Offline = offline.WorstFitDecreasing()\n",
    "result = strategy(reader.offline())\n",
    "print(f'nb_bins = {len(result)}')\n",
    "print(f'{sorted(result)}')"
   ]
  },
  {
   "cell_type": "markdown",
   "id": "45d78b9a-8bf4-4682-8477-92a037ec78dd",
   "metadata": {},
   "source": [
    "#### KPIs"
   ]
  },
  {
   "cell_type": "markdown",
   "id": "a4a7ed19-e383-4533-992d-c84f367643fa",
   "metadata": {},
   "source": [
    "#### Benchmarking For Classical Algorithms"
   ]
  },
  {
   "cell_type": "code",
   "execution_count": null,
   "id": "7e8f7a3f",
   "metadata": {},
   "outputs": [],
   "source": [
    "from pyperf import BenchmarkSuite\n",
    "from os.path import exists\n",
    "\n",
    "bench_datafile = 'outputs/bench.json'\n",
    "if not exists(bench_datafile):\n",
    "    raise UserWarning('You must execute the benchmark before exploring the results!')"
   ]
  },
  {
   "cell_type": "code",
   "execution_count": null,
   "id": "a2b57eec-3881-49da-940c-7121a45c3d78",
   "metadata": {
    "scrolled": true,
    "tags": []
   },
   "outputs": [],
   "source": [
    "!{'python -m pyperf hist outputs/bench.json'}"
   ]
  },
  {
   "cell_type": "code",
   "execution_count": null,
   "id": "688017b5",
   "metadata": {},
   "outputs": [],
   "source": [
    "def extract_benchmark_algos(file: str) -> set[str]:\n",
    "    suite = BenchmarkSuite.load(file)\n",
    "    context = suite.get_benchmark_names()\n",
    "    return set(map(lambda c: c.split('-')[0], context))"
   ]
  },
  {
   "cell_type": "code",
   "execution_count": null,
   "id": "0c3fc833",
   "metadata": {
    "scrolled": true,
    "tags": []
   },
   "outputs": [],
   "source": [
    "files = extract_benchmark_algos(bench_datafile)\n",
    "print(files)"
   ]
  },
  {
   "cell_type": "code",
   "execution_count": null,
   "id": "3ec2d920",
   "metadata": {},
   "outputs": [],
   "source": [
    "def load_bench_measurements(name: str, json_filename: str) -> list[float]:\n",
    "    \"\"\"extract the values for a given benchmark\"\"\"\n",
    "    suite = BenchmarkSuite.load(json_filename)\n",
    "    bench = suite.get_benchmark(name)\n",
    "    return list(bench.get_values())"
   ]
  },
  {
   "cell_type": "code",
   "execution_count": null,
   "id": "9d463e22",
   "metadata": {},
   "outputs": [],
   "source": [
    "Next_Fit_off_vals = []; Next_Fit_on_vals = []\n",
    "First_Fit_off_vals = []; First_Fit_on_vals = []\n",
    "Best_Fit_off_vals = []; Best_Fit_on_vals = []\n",
    "Worst_Fit_off_vals = []; Worst_Fit_on_vals = []\n",
    "\n",
    "for file in files:\n",
    "    #print(file)\n",
    "    name = file.split()[2]\n",
    "    #print(name)\n",
    "    match name:\n",
    "        case 'NF_Off':\n",
    "            Next_Fit_off_vals += load_bench_measurements(file, bench_datafile)\n",
    "        case 'NF_On':\n",
    "            Next_Fit_on_vals += load_bench_measurements(file, bench_datafile)\n",
    "        case 'FFDesc':\n",
    "            First_Fit_off_vals += load_bench_measurements(file, bench_datafile)\n",
    "        case 'FF':\n",
    "            First_Fit_on_vals += load_bench_measurements(file, bench_datafile)\n",
    "        case 'BFDesc':\n",
    "            Best_Fit_off_vals += load_bench_measurements(file, bench_datafile)\n",
    "        case 'BF':\n",
    "            Best_Fit_on_vals += load_bench_measurements(file, bench_datafile)\n",
    "        case 'WFDesc':\n",
    "            Worst_Fit_off_vals += load_bench_measurements(file, bench_datafile)\n",
    "        case 'WF':\n",
    "            Worst_Fit_on_vals += load_bench_measurements(file, bench_datafile)\n",
    "        case _:\n",
    "            raise ValueError(name)"
   ]
  },
  {
   "cell_type": "markdown",
   "id": "4af004bd-50a6-453b-b56c-31bb514e5f6f",
   "metadata": {},
   "source": [
    "**Plot the Benchmark**"
   ]
  },
  {
   "cell_type": "code",
   "execution_count": null,
   "id": "8ec8b3c9",
   "metadata": {},
   "outputs": [],
   "source": [
    "from matplotlib import pyplot as plt\n",
    "\n",
    "def draw_hist(values: list[float], title: str, canvas):\n",
    "    canvas.set_title(title)\n",
    "    canvas.set(xlabel='exec time (s)', ylabel='|instances|')\n",
    "    canvas.hist(values, 20) # putting values into 10 beans"
   ]
  },
  {
   "cell_type": "code",
   "execution_count": null,
   "id": "a9b2e948",
   "metadata": {},
   "outputs": [],
   "source": [
    "fig, axes = plt.subplots(1,2, sharex = False, sharey= True)\n",
    "draw_hist(Next_Fit_off_vals, \"Next Fit Offline\", axes[0]) \n",
    "draw_hist(Next_Fit_on_vals, \"Next Fit Online\", axes[1]) \n",
    "fig.set_size_inches(8,4)\n",
    "fig.tight_layout()\n",
    "fig.savefig('outputs/histogram_NF.pdf')"
   ]
  },
  {
   "cell_type": "code",
   "execution_count": null,
   "id": "cb7098f4-0fa1-4a50-94ce-f20fe078c759",
   "metadata": {},
   "outputs": [],
   "source": [
    "fig, axes = plt.subplots(1,2, sharex = False, sharey= True)\n",
    "draw_hist(First_Fit_off_vals, \"First Fit Offline\", axes[0])\n",
    "draw_hist(First_Fit_on_vals, \"First Fit Online\", axes[1])\n",
    "fig.set_size_inches(8,4)\n",
    "fig.tight_layout()\n",
    "fig.savefig('outputs/histogram_FF.pdf')"
   ]
  },
  {
   "cell_type": "code",
   "execution_count": null,
   "id": "39d9537f-4375-45eb-b4e4-0f125be4bbc7",
   "metadata": {},
   "outputs": [],
   "source": [
    "fig, axes = plt.subplots(1,2, sharex = False, sharey= True)\n",
    "draw_hist(Best_Fit_off_vals, \"Best Fit Offline\", axes[0])\n",
    "draw_hist(Best_Fit_on_vals, \"Best Fit Online\", axes[1])\n",
    "fig.set_size_inches(8,4)\n",
    "fig.tight_layout()\n",
    "fig.savefig('outputs/histogram_BF.pdf')"
   ]
  },
  {
   "cell_type": "code",
   "execution_count": null,
   "id": "9f32fe64-8ddd-4d63-85fd-8f5b62d648df",
   "metadata": {},
   "outputs": [],
   "source": [
    "fig, axes = plt.subplots(1,2, sharex = False, sharey= True)\n",
    "draw_hist(Worst_Fit_off_vals, \"Worst Fit Offline\", axes[0])\n",
    "draw_hist(Worst_Fit_on_vals, \"Worst Fit Online\", axes[1])\n",
    "fig.set_size_inches(8,4)\n",
    "fig.tight_layout()\n",
    "fig.savefig('outputs/histogram_WF.pdf')"
   ]
  },
  {
   "cell_type": "code",
   "execution_count": null,
   "id": "02b78765-6597-4873-baa2-28be6073d479",
   "metadata": {},
   "outputs": [],
   "source": [
    "def plot_box(values: list[float], names: str, canvas):\n",
    "    canvas.boxplot(values, notch=True, labels=names)"
   ]
  },
  {
   "cell_type": "code",
   "execution_count": null,
   "id": "e451b15b-42fc-4771-bdc1-abb2aece3a5a",
   "metadata": {},
   "outputs": [],
   "source": [
    "fig, ax = plt.subplots(1,8)\n",
    "\n",
    "plot_box([Next_Fit_off_vals],['NF_Off'], ax[0])\n",
    "plot_box([Next_Fit_on_vals],['Nf_on'], ax[1])\n",
    "plot_box([First_Fit_off_vals],['FF_off'], ax[2])\n",
    "plot_box([First_Fit_on_vals],['FF_on'], ax[3])\n",
    "plot_box([Best_Fit_off_vals],['BF_off'], ax[4])\n",
    "plot_box([Best_Fit_on_vals],['BF_on'], ax[5])\n",
    "plot_box([Worst_Fit_off_vals],['WF_off'], ax[6])\n",
    "plot_box([Worst_Fit_on_vals],['WF_on'], ax[7])\n",
    "\n",
    "fig.set_size_inches(12,4)\n",
    "fig.tight_layout()\n",
    "fig.savefig('outputs/boxplot.pdf')"
   ]
  },
  {
   "cell_type": "markdown",
   "id": "f8973dc2-55a6-4f5e-94b7-2c4dd3f117c2",
   "metadata": {},
   "source": [
    "**Analysis**"
   ]
  },
  {
   "cell_type": "markdown",
   "id": "efeec0b8-bd3a-47b7-a774-dae203739531",
   "metadata": {},
   "source": [
    "## T3: Measure Improvement Margin"
   ]
  },
  {
   "cell_type": "code",
   "execution_count": 21,
   "id": "c23a07b1-230a-47e9-b12e-d975038a3f69",
   "metadata": {},
   "outputs": [],
   "source": [
    "from os.path import exists\n",
    "from json import load\n",
    "\n",
    "bench_datafile = 'outputs/multi_bench.json'\n",
    "if not exists(bench_datafile):\n",
    "    raise UserWarning('You must execute the benchmark before exploring the results!')"
   ]
  },
  {
   "cell_type": "markdown",
   "id": "a050ba11-2861-4447-9ab0-0cb5cd6f0462",
   "metadata": {},
   "source": [
    "## T4: Add Smarter Algorithms"
   ]
  },
  {
   "cell_type": "markdown",
   "id": "1eefbe00-0d2e-4884-816f-f62e54c88af7",
   "metadata": {},
   "source": [
    "## T5: From Fixed Capacity to Fixed Bins"
   ]
  },
  {
   "cell_type": "code",
   "execution_count": 22,
   "id": "d5da4533",
   "metadata": {},
   "outputs": [
    {
     "name": "stdout",
     "output_type": "stream",
     "text": [
      "nb_bins = 10\n",
      "[[252, 252, 127, 127, 127, 106, 106, 106, 106, 84, 37, 10, 10, 10, 9], [252, 252, 127, 127, 127, 106, 106, 106, 106, 84, 37, 10, 10, 10, 9], [252, 252, 127, 127, 127, 127, 106, 106, 85, 84, 37, 10, 10, 10, 9], [252, 252, 127, 127, 127, 127, 106, 106, 85, 84, 37, 10, 10, 10, 9], [252, 252, 127, 127, 127, 127, 106, 106, 85, 84, 37, 12, 10, 9], [252, 252, 252, 127, 127, 106, 106, 85, 84, 37, 12, 10, 10, 9], [252, 252, 252, 127, 127, 106, 106, 85, 85, 37, 12, 10, 9, 9], [252, 252, 252, 127, 127, 106, 106, 106, 46, 37, 37, 10, 9], [252, 252, 252, 127, 127, 106, 106, 106, 84, 37, 10, 9], [442, 252, 127, 127, 106, 106, 106, 85, 37, 37, 37]]\n",
      "sums of each bin = [1462, 1468, 1467, 1469, 1469, 1461, 1469, 1469, 1469, 1469]\n"
     ]
    }
   ],
   "source": [
    "import macpacking.algorithms.baseline as baseline\n",
    "\n",
    "strategy: Multiway = baseline.BenMaierM()\n",
    "result = strategy(reader.multiway(), 10)\n",
    "sums = []\n",
    "for r in result:\n",
    "    sums.append(sum(r))\n",
    "print(f'nb_bins = {len(result)}')\n",
    "print(f'{sorted(result)}')\n",
    "print(f'sums of each bin = {sums}')"
   ]
  },
  {
   "cell_type": "code",
   "execution_count": null,
   "id": "6fbbe87d",
   "metadata": {},
   "outputs": [],
   "source": [
    "import macpacking.algorithms.multiway as multiway\n",
    "\n",
    "strategy: Multiway = multiway.MultiBestFit()\n",
    "result = strategy(reader.multiway(), 10)\n",
    "sums = []\n",
    "for r in result:\n",
    "    sums.append(sum(r))\n",
    "print(f'nb_bins = {len(result)}')\n",
    "print(f'{result}')\n",
    "print(f'sums = {sums}')"
   ]
  },
  {
   "cell_type": "markdown",
   "id": "f5b877c8",
   "metadata": {},
   "source": [
    "source for multiway : https://github.com/erelsgl/prtpy/blob/main/prtpy/partitioning/multifit.py"
   ]
  },
  {
   "cell_type": "markdown",
   "id": "94b686c3-3aad-4265-8c07-f64d828f75c0",
   "metadata": {},
   "source": [
    "**Benchmarking**"
   ]
  },
  {
   "cell_type": "code",
   "execution_count": null,
   "id": "5fb22152-a0fa-45e2-8157-c7f42fd7d9bd",
   "metadata": {},
   "outputs": [],
   "source": [
    "from pyperf import BenchmarkSuite\n",
    "from os.path import exists\n",
    "\n",
    "bench_datafile = 'outputs/multi_bench.json'\n",
    "if not exists(bench_datafile):\n",
    "    raise UserWarning('You must execute the benchmark before exploring the results!')"
   ]
  },
  {
   "cell_type": "code",
   "execution_count": null,
   "id": "05d81c61-a8b0-4a97-bcce-ca59c79c224f",
   "metadata": {
    "scrolled": true,
    "tags": []
   },
   "outputs": [],
   "source": [
    "!{'python -m pyperf hist outputs/multi_bench.json'}"
   ]
  },
  {
   "cell_type": "code",
   "execution_count": null,
   "id": "a2dd74e6-78cd-4060-8147-9f10df84d0eb",
   "metadata": {},
   "outputs": [],
   "source": [
    "def extract_benchmark_algos(file: str) -> set[str]:\n",
    "    suite = BenchmarkSuite.load(file)\n",
    "    context = suite.get_benchmark_names()\n",
    "    return set(map(lambda c: c.split('-')[0], context))"
   ]
  },
  {
   "cell_type": "code",
   "execution_count": null,
   "id": "b9d2697f-5fd3-4f16-aa99-1f333debc145",
   "metadata": {
    "scrolled": true,
    "tags": []
   },
   "outputs": [],
   "source": [
    "files = extract_benchmark_algos(bench_datafile)\n",
    "print(files)"
   ]
  },
  {
   "cell_type": "code",
   "execution_count": null,
   "id": "4ffbcad5-cf6b-4ad6-baac-d9bd833e74b1",
   "metadata": {},
   "outputs": [],
   "source": [
    "def load_bench_measurements(name: str, json_filename: str) -> list[float]:\n",
    "    \"\"\"extract the values for a given benchmark\"\"\"\n",
    "    suite = BenchmarkSuite.load(json_filename)\n",
    "    bench = suite.get_benchmark(name)\n",
    "    return list(bench.get_values())"
   ]
  },
  {
   "cell_type": "code",
   "execution_count": 26,
   "id": "197aaf14-175f-4f88-8b6b-bfe8069e705d",
   "metadata": {},
   "outputs": [],
   "source": [
    "Multi_Next_Fit = []; Multi_First_Fit = []\n",
    "Multi_Best_Fit = []; Multi_Worst_Fit = []\n",
    "Multi_Baseline = []"
   ]
  },
  {
   "cell_type": "code",
   "execution_count": null,
   "id": "65a0ea15-b49e-4974-8fe0-9ffbcc2b6acd",
   "metadata": {},
   "outputs": [],
   "source": [
    "for file in files:\n",
    "    #print(file)\n",
    "    name = file.split()[2]\n",
    "    #print(name)\n",
    "    match name:\n",
    "        case 'MNF':\n",
    "            Multi_Next_Fit += load_bench_measurements(file, bench_datafile)\n",
    "        case 'MFF':\n",
    "            Multi_First_Fit += load_bench_measurements(file, bench_datafile)\n",
    "        case 'MBF':\n",
    "            Multi_Best_Fit += load_bench_measurements(file, bench_datafile)\n",
    "        case 'MWF':\n",
    "            Multi_Worst_Fit += load_bench_measurements(file, bench_datafile)\n",
    "        case 'BenMaierM':\n",
    "            Multi_Baseline += load_bench_measurements(file, bench_datafile)\n",
    "        case _:\n",
    "            raise ValueError(name)"
   ]
  },
  {
   "cell_type": "markdown",
   "id": "c99d669e-0ad4-4e9e-b701-9d3f709453e8",
   "metadata": {},
   "source": [
    "**Plot the Benchmark**"
   ]
  },
  {
   "cell_type": "code",
   "execution_count": 27,
   "id": "f8c35360-5b7e-4c7c-a62a-6dcc8bf3ce44",
   "metadata": {},
   "outputs": [],
   "source": [
    "from matplotlib import pyplot as plt\n",
    "\n",
    "def draw_hist(values: list[float], title: str, canvas):\n",
    "    canvas.set_title(title)\n",
    "    canvas.set(xlabel='exec time (s)', ylabel='|instances|')\n",
    "    canvas.hist(values, 20) # putting values into 10 beans"
   ]
  },
  {
   "cell_type": "code",
   "execution_count": 28,
   "id": "3d981490-07c5-4a86-98c5-846f2c279974",
   "metadata": {},
   "outputs": [
    {
     "data": {
      "image/png": "[encoded data removed]",
      "text/plain": [
       "<Figure size 800x400 with 2 Axes>"
      ]
     },
     "metadata": {},
     "output_type": "display_data"
    }
   ],
   "source": [
    "fig, axes = plt.subplots(1,2, sharex = False, sharey= True)\n",
    "draw_hist(Multi_Next_Fit, \"Multi Next Fit\", axes[0]) \n",
    "draw_hist(Multi_First_Fit, \"Multi First Fit\", axes[1]) \n",
    "fig.set_size_inches(8,4)\n",
    "fig.tight_layout()\n",
    "fig.savefig('outputs/histogram_MNF_MFF.pdf')"
   ]
  },
  {
   "cell_type": "code",
   "execution_count": 29,
   "id": "f3f6c059-1174-4b05-acce-ec0fe0637571",
   "metadata": {},
   "outputs": [
    {
     "data": {
      "image/png": "[encoded data removed]",
      "text/plain": [
       "<Figure size 800x400 with 2 Axes>"
      ]
     },
     "metadata": {},
     "output_type": "display_data"
    }
   ],
   "source": [
    "fig, axes = plt.subplots(1,2, sharex = False, sharey= True)\n",
    "draw_hist(Multi_Best_Fit, \"Multi Best Fit\", axes[0])\n",
    "draw_hist(Multi_Worst_Fit, \"Multi Worst Fit\", axes[1])\n",
    "fig.set_size_inches(8,4)\n",
    "fig.tight_layout()\n",
    "fig.savefig('outputs/histogram_MBF_MWF.pdf')"
   ]
  },
  {
   "cell_type": "code",
   "execution_count": 30,
   "id": "8aed1be7-b519-4f27-b691-263954eee5cf",
   "metadata": {},
   "outputs": [],
   "source": [
    "# fig, axes = plt.subplots(1,2, sharex = False, sharey= True)\n",
    "# draw_hist(Worst_Fit_off_vals, \"Worst Fit Offline\", axes[0])\n",
    "# draw_hist(Worst_Fit_on_vals, \"Worst Fit Online\", axes[1])\n",
    "# fig.set_size_inches(8,4)\n",
    "# fig.tight_layout()\n",
    "# fig.savefig('outputs/histogram_MBase.pdf')"
   ]
  },
  {
   "cell_type": "code",
   "execution_count": 31,
   "id": "4a1d6cf9-864e-4ac3-94a4-9640d6cf4e8a",
   "metadata": {},
   "outputs": [],
   "source": [
    "def plot_box(values: list[float], names: str, canvas):\n",
    "    canvas.boxplot(values, notch=True, labels=names)"
   ]
  },
  {
   "cell_type": "code",
   "execution_count": 32,
   "id": "222c8009-4109-437f-b8d3-457c0f658b87",
   "metadata": {},
   "outputs": [
    {
     "data": {
      "image/png": "[encoded data removed]",
      "text/plain": [
       "<Figure size 1200x400 with 5 Axes>"
      ]
     },
     "metadata": {},
     "output_type": "display_data"
    }
   ],
   "source": [
    "fig, ax = plt.subplots(1,5)\n",
    "\n",
    "plot_box([Multi_Next_Fit],['MNF'], ax[0])\n",
    "plot_box([Multi_First_Fit],['MFF'], ax[1])\n",
    "plot_box([Multi_Best_Fit],['MBF'], ax[2])\n",
    "plot_box([Multi_Worst_Fit],['MWF'], ax[3])\n",
    "plot_box([Multi_Baseline],['Base'], ax[4])\n",
    "\n",
    "fig.set_size_inches(12,4)\n",
    "fig.tight_layout()\n",
    "fig.savefig('outputs/boxplot_multi.pdf')"
   ]
  },
  {
   "cell_type": "markdown",
   "id": "217aefb9-4bf5-4975-9e18-95718b2c47ca",
   "metadata": {},
   "source": [
    "## Self-reflection questions"
   ]
  },
  {
   "cell_type": "markdown",
   "id": "4646f916-24c0-401a-ac38-7aee03e59bf7",
   "metadata": {},
   "source": [
    "As part of the self-reflection dimension of an experiential course, each member of the group is expected to answer to the following four questions:\n",
    "\n",
    "##### *Hassan*\n",
    "  - What process did you go through to produce this result? (Backward)\n",
    "  - What were your standards for this piece of work? Did you meet your standards? (Inward)\n",
    "  - What the one thing you particularly want people to notice when they look at your work? (Outward)\n",
    "  - What lessons will you keep from this reading/lecture in your professional practice? (Forward)\n",
    "\n",
    "##### *Sevhena*\n",
    "  - What process did you go through to produce this result? (Backward)\n",
    "  - What were your standards for this piece of work? Did you meet your standards? (Inward)\n",
    "  - What the one thing you particularly want people to notice when they look at your work? (Outward)\n",
    "  - What lessons will you keep from this reading/lecture in your professional practice? (Forward)"
   ]
  }
 ],
 "metadata": {
  "kernelspec": {
   "display_name": "Python 3 (ipykernel)",
   "language": "python",
   "name": "python3"
  },
  "language_info": {
   "codemirror_mode": {
    "name": "ipython",
    "version": 3
   },
   "file_extension": ".py",
   "mimetype": "text/x-python",
   "name": "python",
   "nbconvert_exporter": "python",
   "pygments_lexer": "ipython3",
   "version": "3.10.6"
  },
  "vscode": {
   "interpreter": {
    "hash": "69646286424c5aaab8ae138c3726c6b59f7087a0b895c0ec66acc2773b7bac7b"
   }
  }
 },
 "nbformat": 4,
 "nbformat_minor": 5
}
