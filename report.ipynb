{
 "cells": [
  {
   "cell_type": "markdown",
   "id": "d0f21658-40c8-40c9-99d2-ec8c0b42e84f",
   "metadata": {},
   "source": [
    "# Bin Packing Lab"
   ]
  },
  {
   "cell_type": "markdown",
   "id": "f9ffdec9-9fcb-4a7b-910e-abecc6352210",
   "metadata": {},
   "source": [
    "- Authors:\n",
    "  - Sevhena Walker, walkes31@mcmaster.ca\n",
    "  - , email\n",
    "- Group ID on Avenue: group 52\n",
    "- Gitlab URL:"
   ]
  },
  {
   "cell_type": "markdown",
   "id": "fcb763d5-aa1a-4ef1-a6ba-e3cbaae313aa",
   "metadata": {},
   "source": [
    "## How to use the provided code?"
   ]
  },
  {
   "cell_type": "markdown",
   "id": "a0308135-ad12-4563-92b8-45681d3e90a2",
   "metadata": {},
   "source": [
    "_(this section is just here for information, you can get rid of it in your own report)_"
   ]
  },
  {
   "cell_type": "code",
   "execution_count": 1,
   "id": "2166b346-058f-4619-9072-e6fbe608fa0e",
   "metadata": {},
   "outputs": [
    {
     "name": "stdout",
     "output_type": "stream",
     "text": [
      "0\n"
     ]
    }
   ],
   "source": [
    "from macpacking.reader import DatasetReader, BinppReader, JburkardtReader\n",
    "from macpacking.model  import Online, Offline\n",
    "import macpacking.algorithms.offline as offline"
   ]
  },
  {
   "cell_type": "markdown",
   "id": "5fe23917-cc5c-4883-9a2a-581f3fbb2ba4",
   "metadata": {},
   "source": [
    "Now that the business code is imported, we can load an existing dataset"
   ]
  },
  {
   "cell_type": "code",
   "execution_count": 2,
   "id": "cc614c23",
   "metadata": {},
   "outputs": [
    {
     "name": "stdout",
     "output_type": "stream",
     "text": [
      "Dataset: _datasets/jburkardt/p04_c.txt\n",
      "Dataset: _datasets/jburkardt/p04_s.txt\n",
      "Dataset: _datasets/jburkardt/p04_w.txt\n",
      "  - Bin Capacity: 524\n",
      "  - Objects to pack: [9, 9, 9, 9, 9, 9, 9, 9, 9, 9, 10, 10, 10, 10, 10, 10, 10, 10, 10, 10, 10, 10, 10, 10, 10, 10, 10, 10, 12, 12, 12, 37, 37, 37, 37, 37, 37, 37, 37, 37, 37, 37, 37, 37, 46, 84, 84, 84, 84, 84, 84, 84, 85, 85, 85, 85, 85, 85, 85, 106, 106, 106, 106, 106, 106, 106, 106, 106, 106, 106, 106, 106, 106, 106, 106, 106, 106, 106, 106, 106, 106, 106, 106, 106, 106, 106, 127, 127, 127, 127, 127, 127, 127, 127, 127, 127, 127, 127, 127, 127, 127, 127, 127, 127, 127, 127, 127, 127, 127, 127, 127, 127, 127, 127, 252, 252, 252, 252, 252, 252, 252, 252, 252, 252, 252, 252, 252, 252, 252, 252, 252, 252, 252, 252, 252, 252, 252, 442]\n"
     ]
    }
   ],
   "source": [
    "dataset_c = '_datasets/jburkardt/p04_c.txt'\n",
    "dataset_s = '_datasets/jburkardt/p04_s.txt'\n",
    "dataset_w = '_datasets/jburkardt/p04_w.txt'\n",
    "reader: DatasetReader = JburkardtReader(dataset_c, dataset_s, dataset_w)\n",
    "print(f'Dataset: {dataset_c}')\n",
    "print(f'Dataset: {dataset_s}')\n",
    "print(f'Dataset: {dataset_w}')\n",
    "print(f'  - Bin Capacity: {reader.offline()[0]}')\n",
    "print(f'  - Objects to pack: {sorted(reader.offline()[1])}')"
   ]
  },
  {
   "cell_type": "code",
   "execution_count": 3,
   "id": "21df8c2c-a6fa-434b-88c3-361404872819",
   "metadata": {},
   "outputs": [],
   "source": [
    "# dataset = '_datasets/binpp/N1C1W1/N1C1W1_B.BPP.txt'\n",
    "# reader: DatasetReader = BinppReader(dataset)\n",
    "# print(f'Dataset: {dataset}')\n",
    "# print(f'  - Bin Capacity: {reader.offline()[0]}')\n",
    "# print(f'  - Objects to pack: {sorted(reader.offline()[1])}')"
   ]
  },
  {
   "cell_type": "code",
   "execution_count": 4,
   "id": "39da35a3",
   "metadata": {},
   "outputs": [],
   "source": [
    "# dataset = '_datasets/binpp-hard/HARD0.BPP.txt'\n",
    "# reader: DatasetReader = BinppReader(dataset)\n",
    "# print(f'Dataset: {dataset}')\n",
    "# print(f'  - Bin Capacity: {reader.offline()[0]}')\n",
    "# print(f'  - Objects to pack: {sorted(reader.offline()[1])}')"
   ]
  },
  {
   "cell_type": "markdown",
   "id": "0ec54798-4c40-4a2c-a88f-59d6da87975e",
   "metadata": {},
   "source": [
    "Acording to the `oracle.xslx` file, we now that the optimal solution for this case is to use _31_ bins. Let's call the baseline algorithm, which is an offline one, and see how it performs."
   ]
  },
  {
   "cell_type": "code",
   "execution_count": 5,
   "id": "6358d7c1-1777-4c63-af33-d4ebfea952a7",
   "metadata": {},
   "outputs": [
    {
     "name": "stdout",
     "output_type": "stream",
     "text": [
      "nb_bins = 29\n",
      "[[37, 37, 37, 37], [84, 84, 84, 84, 37, 37, 37, 37, 37], [106, 85, 84, 84, 84, 37, 37], [106, 106, 106, 106, 85, 10], [106, 106, 106, 106, 85, 10], [106, 106, 106, 106, 85, 10], [106, 106, 106, 106, 85, 10], [106, 106, 106, 106, 85, 12], [106, 106, 106, 106, 85, 12], [127, 127, 106, 106, 46, 12], [127, 127, 127, 127, 10], [127, 127, 127, 127, 10], [127, 127, 127, 127, 10], [127, 127, 127, 127, 10], [127, 127, 127, 127, 10], [127, 127, 127, 127, 10], [252, 127, 127, 10], [252, 252], [252, 252], [252, 252, 9], [252, 252, 9, 9], [252, 252, 9, 9], [252, 252, 9, 9], [252, 252, 9, 9], [252, 252, 10, 9], [252, 252, 10, 10], [252, 252, 10, 10], [252, 252, 10, 10], [442, 37, 37]]\n"
     ]
    }
   ],
   "source": [
    "import macpacking.algorithms.baseline as baseline\n",
    "strategy: Offline = baseline.BenMaier()\n",
    "result = strategy(reader.offline())\n",
    "print(f'nb_bins = {len(result)}')\n",
    "print(f'{sorted(result)}')"
   ]
  },
  {
   "cell_type": "markdown",
   "id": "74e4777c-bd24-4d4f-a3bc-8465cc5ec346",
   "metadata": {},
   "source": [
    "So the baseline finds the optimal solution. That's good news! Let's call our very own version of `NextFit`, as an offline algorithm."
   ]
  },
  {
   "cell_type": "code",
   "execution_count": 6,
   "id": "300c2945-fb05-4ab7-9f63-78568bb2f666",
   "metadata": {},
   "outputs": [
    {
     "name": "stdout",
     "output_type": "stream",
     "text": [
      "nb_bins = 31\n",
      "[[10, 10, 10, 10, 10, 10, 10, 9, 9, 9, 9, 9, 9, 9, 9, 9, 9], [37, 37, 37, 37, 37, 37, 37, 37, 37, 37, 12, 12, 12, 10, 10, 10, 10, 10, 10, 10, 10, 10, 10, 10], [84, 84, 84, 84, 46, 37, 37, 37], [85, 85, 85, 84, 84, 84], [106, 85, 85, 85, 85], [106, 106, 106, 106], [106, 106, 106, 106], [106, 106, 106, 106], [106, 106, 106, 106], [106, 106, 106, 106], [106, 106, 106, 106], [127, 127, 106, 106], [127, 127, 127, 127], [127, 127, 127, 127], [127, 127, 127, 127], [127, 127, 127, 127], [127, 127, 127, 127], [127, 127, 127, 127], [252, 127, 127], [252, 252], [252, 252], [252, 252], [252, 252], [252, 252], [252, 252], [252, 252], [252, 252], [252, 252], [252, 252], [252, 252], [442]]\n"
     ]
    }
   ],
   "source": [
    "import macpacking.algorithms.online as online\n",
    "strategy: Offline = offline.NextFit()\n",
    "result = strategy(reader.offline())\n",
    "print(f'nb_bins = {len(result)}')\n",
    "print(f'{sorted(result)}')"
   ]
  },
  {
   "cell_type": "code",
   "execution_count": 7,
   "id": "63e308ad",
   "metadata": {},
   "outputs": [
    {
     "name": "stdout",
     "output_type": "stream",
     "text": [
      "nb_bins = 30\n",
      "[[37], [84, 37], [85, 84, 84, 84, 37, 37, 37, 37, 37], [106, 85, 84, 84, 84, 37, 37], [106, 106, 106, 106, 85, 10], [106, 106, 106, 106, 85, 10], [106, 106, 106, 106, 85, 12], [106, 106, 106, 106, 85, 12], [106, 106, 106, 106, 85, 12], [127, 106, 106, 106, 37, 37], [127, 106, 106, 106, 46], [127, 127, 127, 127, 10], [127, 127, 127, 127, 10], [127, 127, 127, 127, 10], [127, 127, 127, 127, 10], [127, 127, 127, 127, 10], [127, 127, 127, 127, 10], [252, 127, 127, 10], [252, 252], [252, 252, 9], [252, 252, 9, 9], [252, 252, 9, 9], [252, 252, 9, 9], [252, 252, 9, 9], [252, 252, 10, 9], [252, 252, 10, 10], [252, 252, 10, 10], [252, 252, 10, 10], [252, 252, 10, 10], [442, 37, 37]]\n",
      "0\n"
     ]
    }
   ],
   "source": [
    "from macpacking.algorithms.offline import NextFit, BestFitDecreasing, FirstFitDecreasing, WorstFitDecreasing\n",
    "\n",
    "strategy: Offline = offline.BestFitDecreasing()\n",
    "result = strategy(reader.offline())\n",
    "\n",
    "count: int = strategy.counting_compares()\n",
    "print(f'nb_bins = {len(result)}')\n",
    "print(f'{sorted(result)}')\n",
    "print(count)"
   ]
  },
  {
   "cell_type": "markdown",
   "id": "10828372-717e-4a8e-bce5-bdb6781ba33f",
   "metadata": {},
   "source": [
    "Damn it, this algorithm is 4 bins far from the optimal solution! Let's try an online version. Usually, they perform worst, so let's measure it."
   ]
  },
  {
   "cell_type": "code",
   "execution_count": 8,
   "id": "50de8648-a261-4e84-bc56-14beefccde46",
   "metadata": {},
   "outputs": [
    {
     "name": "stdout",
     "output_type": "stream",
     "text": [
      "nb_bins = 33\n",
      "[[37, 37, 106, 37, 10, 127], [84, 10, 85, 10, 84, 9, 127, 106], [84, 10, 106, 252], [84, 127, 106], [106, 9, 9, 106, 106, 84, 85], [106, 10, 10, 252, 106, 10], [106, 37, 84, 9, 252, 9], [106, 106, 85, 106, 85], [106, 106, 106], [106, 127, 10, 127, 127], [127, 37, 106, 84, 37, 85, 46], [127, 37, 106, 106, 106], [127, 85, 85, 127, 9], [127, 127, 127, 10, 127], [127, 127, 252], [127, 252, 127, 10], [252, 9, 252], [252, 10, 10, 127, 10], [252, 10, 127, 106, 10], [252, 12, 37], [252, 37], [252, 37, 12, 10], [252, 106, 9], [252, 106, 106], [252, 106, 106], [252, 127], [252, 127], [252, 127, 10, 127], [252, 127, 37, 9], [252, 127, 37, 10], [252, 127, 127], [252, 252, 12], [442, 37, 9]]\n",
      "138\n"
     ]
    }
   ],
   "source": [
    "from macpacking.algorithms.online import NextFit, BestFit, FirstFit, WorstFit\n",
    "\n",
    "strategy: Online = NextFit()\n",
    "\n",
    "\n",
    "result = strategy(reader.online())\n",
    "count: int = strategy.counting_compares()\n",
    "print(f'nb_bins = {len(result)}')\n",
    "print(f'{sorted(result)}')\n",
    "print(count)"
   ]
  },
  {
   "cell_type": "code",
   "execution_count": 9,
   "id": "9b8a94c6",
   "metadata": {},
   "outputs": [
    {
     "name": "stdout",
     "output_type": "stream",
     "text": [
      "nb_bins = 30\n",
      "[[84, 127, 85, 127, 37, 37, 9, 9, 9], [106, 106, 106, 106, 85, 10], [106, 127], [106, 127, 127, 127], [106, 127, 127, 127, 37], [106, 127, 252, 37], [106, 252, 106, 10, 12, 37], [106, 252, 106, 10, 37, 10], [106, 252, 127], [127, 85, 84, 127, 85, 9], [127, 106, 84, 37, 85, 46, 9, 12, 10], [127, 106, 106, 84, 85, 10], [127, 252, 106], [127, 252, 127, 10], [127, 252, 127, 10], [252], [252, 84, 9, 9, 37, 37, 37, 10, 37, 10], [252, 84, 85, 84, 12], [252, 106, 9, 9, 106, 37], [252, 106, 106], [252, 106, 106], [252, 106, 106], [252, 106, 127, 10, 10, 10, 9], [252, 106, 127, 37], [252, 127, 127, 10], [252, 127, 127, 10], [252, 127, 127, 10], [252, 252], [252, 252, 10, 10], [442]]\n"
     ]
    }
   ],
   "source": [
    "strategy: Online = online.BestFit()\n",
    "result = strategy(reader.online())\n",
    "print(f'nb_bins = {len(result)}')\n",
    "print(f'{sorted(result)}')"
   ]
  },
  {
   "cell_type": "markdown",
   "id": "c523a4f3-6957-4963-ae74-f0009a66d204",
   "metadata": {},
   "source": [
    "As expected, the online version is worst!"
   ]
  },
  {
   "cell_type": "markdown",
   "id": "5bd17b88",
   "metadata": {},
   "source": [
    "## T1: Understand The Code Base"
   ]
  },
  {
   "cell_type": "markdown",
   "id": "f5437535",
   "metadata": {},
   "source": [
    "#### Solid Principles\n",
    "S - In terms of how the code follows the single-responsability principle, each class and function serves one purpose.\n",
    "\n",
    "O - The design follows the open/closed principle as more components can be added to the code without modifying existing components. This is easily seen in the bin packer design where you have different types of bin packers (offline, online) and there could possibly be more in the future if such a thing was wanted.\n",
    "\n",
    "L - The design follows the Liskov Substituion principle since all dependent classes can be used in place of their superclasses without any erors occuring. Any overrides seen in the algorithms for the offline and online binpackers do not make any significant changes.\n",
    "\n",
    "I - This design clearly follows interface segragation by the use of the BinPacker interface. This allows for the initalizing of different types of bin packers (offline, online) that still follow the same baseline.\n",
    "\n",
    "D - In the code design there are multiple classes that depend on abstract classes (BinppReader depends on DatasetReader, NextFit has two versions that each depend on an online and offline version of the Binpacker interface) Any changes made to these subclasses won't affect the superclass. If any changes need to be made to any of the methods of the superclasse, then there only need to be an override method initialized in the subclass."
   ]
  },
  {
   "cell_type": "markdown",
   "id": "a7876bc2",
   "metadata": {},
   "source": [
    "#### Dataset Comprehension\n",
    "\n",
    "The files found in the prefixed *binpp* folders follow the same format. The first line in each file gives the number *n* of weighted items in the file. The second line gives the max capacity *c* of the bins and the rest of the file is simply the n individual items listed by their respective weights.\n",
    "\n",
    "The files in the *jburkardt* come in triples with a file ending in *_c*, *_s* and *_w*. The *_c* file gives the capacity of the bins, the *_s* file matches up with the *_w* file as they have the same number of data values. Each line of the *_s* file says how many items of the weight in the *_w* are to be packed. "
   ]
  },
  {
   "cell_type": "markdown",
   "id": "139490ac",
   "metadata": {},
   "source": [
    "## T2: Implement And Benchmark Algorithms"
   ]
  },
  {
   "cell_type": "markdown",
   "id": "2c97e532",
   "metadata": {},
   "source": []
  },
  {
   "cell_type": "code",
   "execution_count": 10,
   "id": "7e8f7a3f",
   "metadata": {},
   "outputs": [],
   "source": [
    "from pyperf import BenchmarkSuite\n",
    "from os.path import exists\n",
    "\n",
    "bench_datafile = 'outputs/bench.json'\n",
    "if not exists(bench_datafile):\n",
    "    raise UserWarning('You must execute the benchmark before exploring the results!')"
   ]
  },
  {
   "cell_type": "code",
   "execution_count": 11,
   "id": "688017b5",
   "metadata": {},
   "outputs": [],
   "source": [
    "def extract_benchmark_algos(file: str) -> set[str]:\n",
    "    suite = BenchmarkSuite.load(file)\n",
    "    context = suite.get_benchmark_names()\n",
    "    return set(map(lambda c: c.split('-')[0], context))"
   ]
  },
  {
   "cell_type": "code",
   "execution_count": 12,
   "id": "0c3fc833",
   "metadata": {},
   "outputs": [
    {
     "name": "stdout",
     "output_type": "stream",
     "text": [
      "{'p04 offline WFDesc', 'p02 offline FFDesc', 'p03 offline BFDesc', 'p01 offline NF_Off', 'p03 offline WFDesc', 'p04 offline FFDesc', 'p04 offline BFDesc', 'p01 offline FFDesc', 'p02 offline BFDesc', 'p01 offline BFDesc', 'p03 offline FFDesc', 'p01 offline WFDesc', 'p03 offline NF_Off', 'p02 offline NF_Off', 'p04 offline NF_Off', 'p02 offline WFDesc'}\n"
     ]
    }
   ],
   "source": [
    "files = extract_benchmark_algos(bench_datafile)\n",
    "print(files)"
   ]
  },
  {
   "cell_type": "code",
   "execution_count": 13,
   "id": "3ec2d920",
   "metadata": {},
   "outputs": [],
   "source": [
    "def load_bench_measurements(name: str, json_filename: str) -> list[float]:\n",
    "    \"\"\"extract the values for a given benchmark\"\"\"\n",
    "    suite = BenchmarkSuite.load(json_filename)\n",
    "    bench = suite.get_benchmark(name)\n",
    "    return list(bench.get_values())"
   ]
  },
  {
   "cell_type": "code",
   "execution_count": 14,
   "id": "9d463e22",
   "metadata": {},
   "outputs": [
    {
     "name": "stdout",
     "output_type": "stream",
     "text": [
      "[4.0808154295746135e-05, 4.341149903552832e-05, 4.4619140624035936e-05, 4.0943164052009706e-05, 4.236884765873583e-05, 4.697880859794168e-05, 4.035913084976528e-05, 4.197780761217018e-05, 4.22633544872042e-05, 4.5182763670936765e-05, 4.337841797052988e-05, 4.455141602477397e-05, 4.513908690739754e-05, 4.628225097746963e-05, 4.54800781284348e-05, 4.5990454097477595e-05, 4.697373046269604e-05, 4.064885253285411e-05, 4.196005858148055e-05, 4.292841796882385e-05, 4.064360351208052e-05, 4.0934863278607736e-05, 4.15649414122754e-05, 4.074826659916653e-05, 4.295219726202504e-05, 4.688676757780286e-05, 5.0104443346299377e-05, 4.084003906257294e-05, 4.3313647466902694e-05, 4.2113037110880214e-05, 4.0956689460358575e-05, 4.161384276812896e-05, 4.279279785635026e-05, 4.668134765495324e-05, 4.492998046146113e-05, 4.416186523314991e-05, 4.13842041098178e-05, 4.692507323511563e-05, 4.696975098283929e-05, 4.5003393566389605e-05, 4.4650097649423515e-05, 4.127292480404776e-05, 4.448637695020352e-05, 4.111340332713098e-05, 4.751762695320849e-05, 4.2595581049909015e-05, 4.083820800815374e-05, 4.243896484013021e-05, 4.988852539611344e-05, 4.731591798190493e-05, 4.651621092932601e-05, 4.343840332410309e-05, 4.4789624027430364e-05, 4.273554688438708e-05, 4.979348143763218e-05, 4.467080077574792e-05, 4.2637207030793434e-05, 4.120056152601137e-05, 4.236904295851218e-05, 4.125009765232335e-05, 0.0009418851564078068, 0.000824953906430892, 0.0008001367186807329, 0.0007613273437527823, 0.0010798531247928622, 0.0008289570309898409, 0.0007556046875833999, 0.0007996414065019053, 0.0007815765625309723, 0.0008195828122552484, 0.0008014359373191837, 0.0007715843748883344, 0.0008207531250263855, 0.0007515429688282893, 0.0008002015624697378, 0.0008305773435495212, 0.0008184820312635566, 0.0008458492188765376, 0.0007600523435939976, 0.0007701414065195422, 0.0007610906250192784, 0.0007709117185186187, 0.0007764898437017109, 0.0008048437498473504, 0.0007548070311713673, 0.0007534976562055817, 0.0007725054688307864, 0.000777821874635265, 0.0007695617186982417, 0.0008180562504094269, 0.0008096742185443873, 0.0008384976563320379, 0.000829928906114219, 0.0009308132812293479, 0.0010908187500717759, 0.0008680750001985871, 0.0009166523441308527, 0.0008413257810389041, 0.0007595148435939336, 0.0007584429686176009, 0.0007650500001545879, 0.0009642101558711147, 0.0008044335936574498, 0.0008389328127123008, 0.000861197656377044, 0.000974860156475188, 0.0009730953124744701, 0.0007951648435664538, 0.0007536171874562569, 0.0007542382813880977, 0.0007749531250738073, 0.0007971375002853165, 0.0008261781249530031, 0.0008138320313264558, 0.0008356335938515258, 0.0008318523437083059, 0.0008035007813305128, 0.0007808953128005669, 0.0008200218749152555, 0.0008519617185811512, 0.00025322460942334146, 0.00024613457037503395, 0.000244408398430096, 0.0002638623046777866, 0.0002572267578671017, 0.00023803085935014678, 0.00025667871091172856, 0.0002348714843947164, 0.00023041210931751266, 0.0002468005859554978, 0.00023626269535270694, 0.0002298720703493018, 0.0002525777343862501, 0.00023145390616718942, 0.0002376917968831549, 0.00025804843755850015, 0.00024266425782570877, 0.00023805898445061757, 0.0002447800782192644, 0.0002445484374220541, 0.0002482046875229571, 0.00027245937496900297, 0.0002502675781670405, 0.0002598679687935146, 0.0003244134765054696, 0.00026507421875976434, 0.0002667787109658093, 0.00027250664061284624, 0.00026642382806585374, 0.00025029453115621436, 0.0002505693360035366, 0.0002502347656445636, 0.000309891796860029, 0.0002543070312412965, 0.00025159667973184696, 0.00025335898442335747, 0.00026108144538739, 0.0002383175781233149, 0.0002511951172436966, 0.00025467773434684204, 0.00024498203117673256, 0.00024216894530582067, 0.0002637333983557255, 0.00024609394540675567, 0.00024086914061172138, 0.0002491427734412355, 0.00023429824227605422, 0.00024596738285254105, 0.00024826933599797485, 0.00023310136714371765, 0.00023206582034163148, 0.00025947988274310774, 0.0002316013672043482, 0.00023329746090894332, 0.0002474175781799204, 0.0002371369140519164, 0.00022905117191385216, 0.00025018203120907856, 0.00023354453117008234, 0.00023242324220973387, 3.676418457132513e-05, 3.68433349535735e-05, 3.550756835579705e-05, 3.816723634031405e-05, 3.873483886707163e-05, 3.862373047525125e-05, 3.444921874518059e-05, 3.4022509765918585e-05, 3.454726562779342e-05, 4.2374609378725836e-05, 4.219870605481901e-05, 5.107797851167106e-05, 4.114624023543456e-05, 3.7301538085898756e-05, 4.484912109603556e-05, 3.666198730911674e-05, 3.80650146496464e-05, 3.590622557680945e-05, 3.482990723568946e-05, 3.4357397467488227e-05, 3.530129394846426e-05, 3.393261718542817e-05, 3.441467285369981e-05, 3.45446044889286e-05, 3.535336914239906e-05, 3.403693847303657e-05, 3.4165307610578566e-05, 3.43173095700422e-05, 3.4814477544387046e-05, 3.431574707235541e-05, 3.790893555333241e-05, 3.9843603516942494e-05, 3.8684643556052833e-05, 3.574897461078308e-05, 3.626721191096749e-05, 5.6045410147476105e-05, 3.545769043000746e-05, 3.568791504449109e-05, 3.716416016175117e-05, 3.559897460547745e-05, 3.4656982421665816e-05, 3.4432348627433385e-05, 3.501284180629227e-05, 3.486665038110459e-05, 3.678493652614634e-05, 4.07138671789653e-05, 3.6143749994721475e-05, 3.51110351459738e-05, 3.43303222649638e-05, 3.611745604814587e-05, 3.503562011530903e-05, 3.447050781346661e-05, 3.552907715231868e-05, 3.460380860076384e-05, 3.497963867005183e-05, 3.999143066835131e-05, 3.599584960056745e-05, 3.803164061366715e-05, 3.5687988287236294e-05, 3.402343750735781e-05]\n"
     ]
    }
   ],
   "source": [
    "Next_Fit_off_vals = []; Next_Fit_on_vals = []\n",
    "First_Fit_off_vals = []; First_Fit_on_vals = []\n",
    "Best_Fit_off_vals = []; Best_Fit_on_vals = []\n",
    "Worst_Fit_off_vals = []; Worst_Fit_on_vals = []\n",
    "\n",
    "for file in files:\n",
    "    match file.split()[2]:\n",
    "        case 'NF_Off':\n",
    "            Next_Fit_off_vals += load_bench_measurements(file, bench_datafile)\n",
    "        case 'NF_On':\n",
    "            Next_Fit_on_vals += load_bench_measurements(file, bench_datafile)\n",
    "        case 'FFDesc':\n",
    "            First_Fit_off_vals += load_bench_measurements(file, bench_datafile)\n",
    "        case 'FF':\n",
    "            First_Fit_on_vals += load_bench_measurements(file, bench_datafile)\n",
    "        case 'BFDesc':\n",
    "            Best_Fit_off_vals += load_bench_measurements(file, bench_datafile)\n",
    "        case 'BF':\n",
    "            Best_Fit_on_vals += load_bench_measurements(file, bench_datafile)\n",
    "        case 'WFDesc':\n",
    "            Worst_Fit_off_vals += load_bench_measurements(file, bench_datafile)\n",
    "        case 'WF':\n",
    "            Worst_Fit_on_vals += load_bench_measurements(file, bench_datafile)\n",
    "\n",
    "#print(Next_Fit_off_vals)\n",
    "print(Best_Fit_off_vals)"
   ]
  },
  {
   "cell_type": "code",
   "execution_count": 15,
   "id": "8ec8b3c9",
   "metadata": {},
   "outputs": [],
   "source": [
    "from matplotlib import pyplot as plt\n",
    "\n",
    "def draw_hist(values: list[float], title: str, canvas):\n",
    "    canvas.set_title(title)\n",
    "    canvas.set(xlabel='exec time (s)', ylabel='|instances|')\n",
    "    canvas.hist(values, 20) # putting values into 10 beans"
   ]
  },
  {
   "cell_type": "code",
   "execution_count": 16,
   "id": "a9b2e948",
   "metadata": {},
   "outputs": [
    {
     "data": {
      "image/png": "[encoded data removed]",
      "text/plain": [
       "<Figure size 800x400 with 2 Axes>"
      ]
     },
     "metadata": {},
     "output_type": "display_data"
    }
   ],
   "source": [
    "fig, axes = plt.subplots(1,2, sharex = True, sharey= True)\n",
    "draw_hist(Next_Fit_off_vals, \"Next Fit Online\", axes[0]) \n",
    "draw_hist(Next_Fit_on_vals, \"Next Fit Offline\", axes[1]) \n",
    "fig.set_size_inches(8,4)\n",
    "fig.tight_layout()\n",
    "fig.savefig('outputs/histogram_NF.pdf')"
   ]
  },
  {
   "cell_type": "code",
   "execution_count": 20,
   "id": "02b78765-6597-4873-baa2-28be6073d479",
   "metadata": {},
   "outputs": [],
   "source": [
    "def plot_box(values: list[float], names: str, canvas):\n",
    "    canvas.boxplot(values, notch=True, labels=names)"
   ]
  },
  {
   "cell_type": "code",
   "execution_count": 21,
   "id": "e451b15b-42fc-4771-bdc1-abb2aece3a5a",
   "metadata": {},
   "outputs": [
    {
     "data": {
      "image/png": "[encoded data removed]",
      "text/plain": [
       "<Figure size 1200x400 with 8 Axes>"
      ]
     },
     "metadata": {},
     "output_type": "display_data"
    }
   ],
   "source": [
    "fig, ax = plt.subplots(1,8)\n",
    "\n",
    "plot_box([Next_Fit_off_vals],['NF_Off'], ax[0])\n",
    "plot_box([Next_Fit_on_vals],['Nf_on'], ax[1])\n",
    "plot_box([First_Fit_off_vals],['FF_off'], ax[2])\n",
    "plot_box([First_Fit_on_vals],['FF_on'], ax[3])\n",
    "plot_box([Best_Fit_off_vals],['BF_off'], ax[4])\n",
    "plot_box([Best_Fit_on_vals],['BF_on'], ax[5])\n",
    "plot_box([Worst_Fit_off_vals],['WF_off'], ax[6])\n",
    "plot_box([Worst_Fit_on_vals],['WF_on'], ax[7])\n",
    "\n",
    "fig.set_size_inches(12,4)\n",
    "fig.tight_layout()\n",
    "fig.savefig('outputs/boxplot.pdf')"
   ]
  },
  {
   "cell_type": "markdown",
   "id": "217aefb9-4bf5-4975-9e18-95718b2c47ca",
   "metadata": {},
   "source": [
    "## Self-reflection questions"
   ]
  },
  {
   "cell_type": "markdown",
   "id": "4646f916-24c0-401a-ac38-7aee03e59bf7",
   "metadata": {},
   "source": [
    "As part of the self-reflection dimension of an experiential course, each member of the group is expected to answer to the following four questions:\n",
    "\n",
    "##### *Hassan*\n",
    "  - What process did you go through to produce this result? (Backward)\n",
    "  - What were your standards for this piece of work? Did you meet your standards? (Inward)\n",
    "  - What the one thing you particularly want people to notice when they look at your work? (Outward)\n",
    "  - What lessons will you keep from this reading/lecture in your professional practice? (Forward)\n",
    "\n",
    "##### *Sevhena*\n",
    "  - What process did you go through to produce this result? (Backward)\n",
    "  - What were your standards for this piece of work? Did you meet your standards? (Inward)\n",
    "  - What the one thing you particularly want people to notice when they look at your work? (Outward)\n",
    "  - What lessons will you keep from this reading/lecture in your professional practice? (Forward)"
   ]
  }
 ],
 "metadata": {
  "kernelspec": {
   "display_name": "Python 3 (ipykernel)",
   "language": "python",
   "name": "python3"
  },
  "language_info": {
   "codemirror_mode": {
    "name": "ipython",
    "version": 3
   },
   "file_extension": ".py",
   "mimetype": "text/x-python",
   "name": "python",
   "nbconvert_exporter": "python",
   "pygments_lexer": "ipython3",
   "version": "3.10.6"
  },
  "vscode": {
   "interpreter": {
    "hash": "69646286424c5aaab8ae138c3726c6b59f7087a0b895c0ec66acc2773b7bac7b"
   }
  }
 },
 "nbformat": 4,
 "nbformat_minor": 5
}
